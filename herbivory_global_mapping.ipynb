{
 "cells": [
  {
   "cell_type": "code",
   "execution_count": null,
   "metadata": {},
   "outputs": [],
   "source": [
    "from tqdm.notebook import trange # Progress bar\n",
    "import pandas as pd\n",
    "import numpy as np\n",
    "import geopandas as gpd\n",
    "from shapely import geometry\n",
    "import matplotlib.pyplot as plt\n",
    "import matplotlib as mpl"
   ]
  },
  {
   "attachments": {},
   "cell_type": "markdown",
   "metadata": {},
   "source": [
    "### Define Color Bar"
   ]
  },
  {
   "cell_type": "code",
   "execution_count": null,
   "metadata": {},
   "outputs": [],
   "source": [
    "# LinearSegmentedColormap method\n",
    "\n",
    "from mpl_toolkits.axes_grid1 import make_axes_locatable\n",
    "from matplotlib.colors import ListedColormap, LinearSegmentedColormap\n",
    "ax = plt.subplot()\n",
    "clist=['blue','limegreen','red']\n",
    "# N is the number of color\n",
    "newcmap = LinearSegmentedColormap.from_list('mycolmap',clist,N=512)\n",
    "im = ax.imshow(np.arange(100).reshape((10, 10)),cmap=newcmap)\n",
    "divider = make_axes_locatable(ax)\n",
    "cax = divider.append_axes(\"right\", size=\"5%\", pad=0.05)\n",
    "plt.colorbar(im, cax=cax)\n",
    "plt.show()\n"
   ]
  },
  {
   "cell_type": "code",
   "execution_count": null,
   "metadata": {},
   "outputs": [],
   "source": [
    "import cartopy.crs as ccrs # Module for drawing maps\n",
    "import cartopy.feature as cfeatur\n",
    "from mpl_toolkits.axes_grid1 import make_axes_locatable\n",
    "\n",
    "\n",
    "data = pd.read_excel(r'C:\\\\Users\\\\*****\\\\data_class_analyes.xlsx', sheet_name=0)\n",
    "\n",
    "config = {\n",
    "    \"font.family\":'Times New Roman',\n",
    "    \"mathtext.fontset\": 'stix',\n",
    "    \"font.serif\": ['SimSun'],\n",
    "}\n",
    "mpl.rcParams.update(config)\n",
    "mpl.rcParams['axes.unicode_minus']=False\n",
    "# Function to adding Points to a Map\n",
    "def point_plot(poin_lon, poin_lat, col_value, poin_title:str):\n",
    "    fig, ax = plt.subplots(figsize=(15, 12), subplot_kw={'projection': ccrs.PlateCarree()})\n",
    "    ax.set_xlim([-180, 180])\n",
    "    ax.set_ylim([-90, 90])\n",
    "    plt.title(poin_title)\n",
    "    mapbar = ax.scatter(poin_lon, poin_lat, c=col_value, s=9, cmap=newcmap, vmin=0, vmax=100)\n",
    "    ax.add_feature(cfeatur.OCEAN.with_scale('10m'), zorder=2)  \n",
    "    ax.add_feature(cfeatur.LAKES.with_scale('10m'), zorder=2) \n",
    "    ax.gridlines(draw_labels=True, linestyle='--', lw = 0.3)  \n",
    "    cax = fig.add_axes([ax.get_position().x0, ax.get_position().y0-0.05, ax.get_position().width, 0.02]) # set color bar\n",
    "    clb = plt.colorbar(mapbar, cax=cax, orientation = 'horizontal')\n",
    "    clb.set_label('Herbivory')\n",
    "    plt.savefig(r'C:\\\\Users\\\\****\\\\photo\\\\' + poin_title + '.png', dpi=600, bbox_inches = 'tight')\n",
    "    \n",
    "point_plot(poin_lon = data['Longitude'], poin_lat = data['Latitude'], col_value = data['Herbivory'], poin_title = 'Global sample points')"
   ]
  },
  {
   "attachments": {},
   "cell_type": "markdown",
   "metadata": {},
   "source": [
    "box plot"
   ]
  },
  {
   "cell_type": "code",
   "execution_count": null,
   "metadata": {},
   "outputs": [],
   "source": [
    "import seaborn as sns\n",
    "\n",
    "a = data.loc[(data['class'] == 'Mixed')].index\n",
    "data=data.drop(axis=0,index=a)\n",
    "class_plot = pd.DataFrame({'herb': pd.Series(data.loc[(data['class'] == 'herb')]['Herbivory'].values),\n",
    "                            'woody': pd.Series(data.loc[(data['class'] == 'woody')]['Herbivory'].values)})\n",
    "fig3, ax3 = plt.subplots(1, 2, figsize=(14, 8))\n",
    "# growf_plot.boxplot()\n",
    "sns.boxplot(data = class_plot, ax = ax3[0]) # box\n",
    "sns.violinplot(data = class_plot, ax=ax3[1]) # violin\n",
    "ax3[1].set(ylim=(0, 100))\n",
    "ax3[0].set(ylim=(0, 100))\n",
    "ax3[0].set_xlabel(\"a\")\n",
    "ax3[0].set_ylabel(\"Herbivory\")\n",
    "ax3[1].set_xlabel(\"b\")\n",
    "ax3[1].set_ylabel(\"Herbivory\")\n",
    "plt.savefig(r'C:\\\\Users\\\\****\\\\photo\\\\herb_woody_box.png', dpi=600, bbox_inches = 'tight')\n"
   ]
  },
  {
   "attachments": {},
   "cell_type": "markdown",
   "metadata": {},
   "source": [
    "Kruskal-Wallis test by R"
   ]
  },
  {
   "cell_type": "code",
   "execution_count": null,
   "metadata": {},
   "outputs": [],
   "source": [
    "# Define R path\n",
    "import os\n",
    "os.environ['R_HOME']= r'C:\\\\Program Files\\\\R\\\\R-4.2.2' # Change to your own version and address\n",
    "os.environ['PATH'] = os.pathsep + r'C:\\\\Program Files\\\\R\\\\R-4.2.2\\\\bin\\\\X64\\\\' + \";\" + os.environ[\"PATH\"]\n",
    "# Call R\n",
    "from rpy2.robjects import r  # Calling R allows for writing some simple R code\n",
    "from rpy2.robjects.packages import importr  # 'importr' like library in R\n",
    "from rpy2.robjects import pandas2ri  # Convert Pandas objects to objects that can be read by R\n",
    "from rpy2.robjects import globalenv\n",
    "from rpy2.robjects.conversion import localconverter\n",
    "import rpy2.robjects as ro\n",
    "importr('stats')\n",
    "\n",
    "data_test = data[['Herbivory', 'class']]\n",
    "with localconverter(ro.default_converter + pandas2ri.converter):\n",
    "    data_test = ro.conversion.py2rpy(data_test)\n",
    "\n",
    "globalenv['data_test'] = data_test\n",
    "\n",
    "rscript = \"\"\"\n",
    "kruskal.test(Herbivory~class, data=data_test)\n",
    "\"\"\"\n",
    "print(r(rscript))\n"
   ]
  },
  {
   "attachments": {},
   "cell_type": "markdown",
   "metadata": {},
   "source": [
    "## Data import and processing\n",
    "### Read data\n",
    "Read climate data with a resolution of 5 arc minutes, data source： WorldClim (https://www.worldclim.org/data/worldclim21.html)\\\n",
    "Using Geodetic Projection： EPSG:4326 (WGS84)"
   ]
  },
  {
   "cell_type": "code",
   "execution_count": null,
   "metadata": {},
   "outputs": [],
   "source": [
    "import xarray as xr\n",
    "import rioxarray as rixary  # rioxarray: reading Grid Files(tif) and Convert to Grid File(nc)\n",
    "\n",
    "# Reading climate data\n",
    "cli_colnames = [\"AMT\", \"TDR\", \"Isoth\", \"Tseason\", \"TWM\", \"TCM\", \"ATR\", \"TWEQ\", \"TDQ\", \"TWQ\", \"TCQ\", \"AP\", \"PWM\", \"PDM\",\n",
    "            \"Pseason\", \"PWeQ\", \"PDQ\", \"PWQ\", \"PCQ\"]  # Climate variables\n",
    "climate_x = [] \n",
    "for i in range(len(cli_colnames)):\n",
    "    cli = rixary.open_rasterio(\n",
    "        r'C:\\\\Users\\\\*******\\\\wc2.1_5m_bio\\\\wc2.1_5m_bio_' + str(i + 1) + r'.tif')\n",
    "    climate_x.append(cli)\n",
    "climate = xr.concat(climate_x, dim='band')\n",
    "climate['band'] = cli_colnames\n"
   ]
  },
  {
   "attachments": {},
   "cell_type": "markdown",
   "metadata": {},
   "source": [
    "Obtain the biological community information of the global scale land Ecotope. source :World Wildlife Fund:https://www.worldwildlife.org/publications/terrestrial-ecoregions-of-the-world "
   ]
  },
  {
   "cell_type": "code",
   "execution_count": null,
   "metadata": {},
   "outputs": [],
   "source": [
    "\n",
    "biome_name = [\"Tropical & Subtropical Moist Broadleaf Forests\",\"Tropical & Subtropical Dry Broadleaf Forests\",\n",
    "              \"Tropical & Subtropical Coniferous Forests\",\"Temperate Broadleaf & Mixed Forests\",\"Temperate Conifer Forests\",\n",
    "              \"Boreal Forests/Taiga\",\"Tropical & Subtropical Grasslands, Savannas & Shrublands\",\"Temperate Grasslands, Savannas & Shrublands\",\n",
    "              \"Flooded Grasslands & Savannas\",\"Montane Grasslands & Shrublands\",\"Tundra\",\"Mediterranean Forests, Woodlands & Scrub\",\n",
    "              \"Deserts & Xeric Shrublands\",\"Mangroves\"] # Biocommunity Types\n",
    "\n",
    "bio_colnames = ['biome']\n",
    "biome = rixary.open_rasterio(r'C:\\\\Users\\\\*****\\\\biome-new\\\\wwf_terr_ecos.tif') \n",
    "biome['band'] = bio_colnames"
   ]
  },
  {
   "attachments": {},
   "cell_type": "markdown",
   "metadata": {},
   "source": [
    "Read soil data with a resolution of 5 arc minutes, data source：Harmonized World Soil Database v1.2(https://www.fao.org/soils-portal/soil-survey/soil-maps-and-databases/harmonized-world-soil-database-v12/en/)/\n",
    "Resampled by ArcGis, adjust the resolution to 5min(BILINEAR)."
   ]
  },
  {
   "cell_type": "code",
   "execution_count": null,
   "metadata": {},
   "outputs": [],
   "source": [
    "# Read soil data\n",
    "soil_colnames = ['T_GRAVEL','T_SAND','T_SILT','T_CLAY','T_REF_BULK_DENSITY','T_BULK_DENSITY','T_OC','T_PH_H2O','T_CEC_CLAY','T_CEC_SOIL',\n",
    "            'T_BS','T_TEB','T_CACO3','T_CASO4','T_ESP','T_ECE']\n",
    "soil_x=[] \n",
    "for soil_colname in soil_colnames:\n",
    "    soi = rixary.open_rasterio(r'C:\\\\Users\\\\*****\\\\HWSD_5m\\\\data\\\\'+ soil_colname +r'_5m.tif')\n",
    "    soil_x.append(soi)\n",
    "soil = xr.concat(soil_x, dim='band')  \n",
    "soil['band'] = soil_colnames\n"
   ]
  },
  {
   "attachments": {},
   "cell_type": "markdown",
   "metadata": {},
   "source": [
    "The land cover type. Data source：2020 MODIS MCD12Q1：https://e4ftl01.cr.usgs.gov/MOTA/MCD12Q1.061/ \\\n",
    "Friedl, M., Sulla-Menashe, D. (2022). MODIS/Terra+Aqua Land Cover Type Yearly L3 Global 0.05Deg CMG V061 [Data set]. NASA EOSDIS Land Processes DAAC. Accessed 2023-03-28 from https://doi.org/10.5067/MODIS/MCD12C1.061/\n",
    "Resampled by ArcGis, adjust the resolution to 5min(nearest).\n"
   ]
  },
  {
   "cell_type": "code",
   "execution_count": null,
   "metadata": {},
   "outputs": [],
   "source": [
    "glc = rixary.open_rasterio(r'C:\\\\Users\\\\******\\\\MCD12Q1_v061_LC_Type\\\\MCD12Q1_v061_LC_5m_Type.tif')\n"
   ]
  },
  {
   "attachments": {},
   "cell_type": "markdown",
   "metadata": {},
   "source": [
    "### Add environmental data\n",
    "Add soil data, climate data, and biological communities to the dataset based on latitude and longitude"
   ]
  },
  {
   "cell_type": "code",
   "execution_count": null,
   "metadata": {},
   "outputs": [],
   "source": [
    "data_all=data\n",
    "\n",
    "# Functions to extract index\n",
    "def find_index(target, A):\n",
    "    index_list=[]\n",
    "    if len(A) < 1:\n",
    "        print('The input is null.')\n",
    "    else:\n",
    "        for i in trange(len(target), desc='extract index'):\n",
    "            index_list.append(A.index(min(A, key=lambda x: abs(x - target[i]))))\n",
    "    return index_list\n",
    "\n",
    "lon = climate['x'].values.tolist() # extract longitude\n",
    "lat = climate['y'].values.tolist()\n",
    "\n",
    "lon_indexs = find_index(data['Longitude'].tolist(), lon)\n",
    "lat_indexs = find_index(data['Latitude'].tolist(), lat)\n",
    "\n",
    "\n",
    "# Add climate data\n",
    "for colname in cli_colnames:\n",
    "    cli = []\n",
    "    dat = climate.sel(band = colname).values\n",
    "    for (lon_index,lat_index) in zip(lon_indexs,lat_indexs):\n",
    "        cli.append(dat[lat_index, lon_index])\n",
    "    data_all[colname] = cli\n",
    "\n",
    "# Add soil data\n",
    "for colname in soil_colnames:\n",
    "    soi = []\n",
    "    dat = soil.sel(band = colname).values\n",
    "    for (lon_index,lat_index) in zip(lon_indexs,lat_indexs):\n",
    "        soi.append(dat[lat_index, lon_index])\n",
    "    data_all[colname] = soi\n",
    "\n",
    "\n",
    "\n",
    "# Add biome\n",
    "lon_bio = biome['x'].values.tolist()\n",
    "lat_bio = biome['y'].values.tolist()\n",
    "\n",
    "lon_bio_indexs = find_index(data['Longitude'].tolist(), lon_bio)\n",
    "lat_bio_indexs = find_index(data['Latitude'].tolist(), lat_bio)\n",
    "\n",
    "for colname in bio_colnames:\n",
    "    bio = []\n",
    "    dat = biome.sel(band = colname).values\n",
    "    for (lon_bio_index,lat_bio_index) in zip(lon_bio_indexs,lat_bio_indexs):\n",
    "        bio.append(dat[lat_bio_index, lon_bio_index])\n",
    "    data_all[colname] = bio\n",
    "\n",
    "\n",
    "# Add absolute latitude\n",
    "data_all['abs_lat'] = abs(data[['Latitude']])\n",
    "data_all['Lon'] = data[['Longitude']]\n",
    "data_all"
   ]
  },
  {
   "cell_type": "code",
   "execution_count": null,
   "metadata": {},
   "outputs": [],
   "source": [
    "\n",
    "# name for biome1-biome13\n",
    "for i in range(1,14,1):\n",
    "    exec(\"\"\"biome{} = pd.Series(data.loc[(data_all['biome'] == i)]['Herbivory'].values)\"\"\".format(i))\n",
    "# add biome1-biome13\n",
    "biome_plot = pd.DataFrame({'1': biome1})\n",
    "for i in range(2,14,1):\n",
    "    biome_plot[f'{i}'] = eval(f'biome{i}')\n",
    "\n",
    "fig4, ax4 = plt.subplots(2,1, figsize=(14,14))\n",
    "\n",
    "\n",
    "sns.boxplot(data = biome_plot, ax = ax4[0])\n",
    "sns.violinplot(data = biome_plot, width=1.5, ax=ax4[1])\n",
    "ax4[1].set(ylim=(0, 100))\n",
    "ax4[0].set_xlabel(\"a\")\n",
    "ax4[0].set_ylabel(\"Herbivory\")\n",
    "ax4[1].set_xlabel(\"b\")\n",
    "ax4[1].set_ylabel(\"Herbivory\")\n",
    "plt.savefig(r'C:\\\\Users\\\\*****\\\\photo\\\\biome_box.png', dpi=600, bbox_inches = 'tight')\n"
   ]
  },
  {
   "attachments": {},
   "cell_type": "markdown",
   "metadata": {},
   "source": [
    "Kruskal-Wallis test in different biome"
   ]
  },
  {
   "cell_type": "code",
   "execution_count": null,
   "metadata": {},
   "outputs": [],
   "source": [
    "biome_index = (data_all['biome'] == 1)\n",
    "for i in range(2,14,1):\n",
    "    biome_index += (data_all['biome'] == i)\n",
    "biome_test = data.loc[biome_index][['biome','Herbivory']]\n",
    "\n",
    "with localconverter(ro.default_converter + pandas2ri.converter):\n",
    "    biome_test = ro.conversion.py2rpy(biome_test)\n",
    "\n",
    "globalenv['biome_test'] = biome_test\n",
    "rscript = \"\"\"\n",
    "kruskal.test(Herbivory~biome, data=biome_test)\n",
    "\"\"\"\n",
    "print(r(rscript))\n"
   ]
  },
  {
   "attachments": {},
   "cell_type": "markdown",
   "metadata": {},
   "source": [
    "Kruskal-Wallis test among biomes"
   ]
  },
  {
   "cell_type": "code",
   "execution_count": null,
   "metadata": {},
   "outputs": [],
   "source": [
    "rscript = \"\"\"\n",
    "p.test<-pairwise.wilcox.test(biome_test$Herbivory, reorder(biome_test$biome, -biome_test$Herbivory), p.adjust.method = \"BH\")\n",
    "p.test$p.value\n",
    "\"\"\"\n",
    "print(r(rscript))"
   ]
  },
  {
   "attachments": {},
   "cell_type": "markdown",
   "metadata": {},
   "source": [
    "Removing useless values (refers to the loss of meaning in the values extracted from coordinates due to the accuracy of the data, such as extracting values from a point by the sea(usually very small, with an order of magnitude of$10^{-38}$))"
   ]
  },
  {
   "cell_type": "code",
   "execution_count": null,
   "metadata": {},
   "outputs": [],
   "source": [
    "data_anals = data_all.drop(axis=0,index=(data_all.loc[((data_all['AMT'] < -1000)\n",
    "                                                       + (data_all['T_GRAVEL'] < -1000)\n",
    "                                                       + (data_all['T_CEC_CLAY'] < -1000))].index))\n",
    "data_anals\n",
    "data_anals.to_excel('C:/Users/*****/data_anals.xlsx')"
   ]
  },
  {
   "attachments": {},
   "cell_type": "markdown",
   "metadata": {},
   "source": [
    "All the sample points in analysis"
   ]
  },
  {
   "cell_type": "code",
   "execution_count": null,
   "metadata": {},
   "outputs": [],
   "source": [
    "data_anals_herb = data_anals.loc[(data_anals['class'] == 'herb')]\n",
    "data_anals_woody = data_anals.loc[(data_anals['class'] == 'woody')]\n",
    "\n",
    "fig, ax = plt.subplots(figsize=(15, 12), subplot_kw={'projection': ccrs.PlateCarree()})\n",
    "ax.set_xlim([-180, 180])\n",
    "ax.set_ylim([-90, 90])\n",
    "plt.title('Global sample points in training models')\n",
    "ax.add_feature(cfeatur.OCEAN.with_scale('10m'), zorder=2)  \n",
    "ax.add_feature(cfeatur.LAKES.with_scale('10m'), zorder=2)  \n",
    "mapbar = ax.scatter(data_anals_herb['Longitude'], data_anals_herb['Latitude'], c='Gold', s=9,alpha=0.5)\n",
    "ax.scatter(data_anals_woody['Longitude'], data_anals_woody['Latitude'], c='ForestGreen', s=9,alpha=0.5)\n",
    "ax.gridlines(draw_labels=True, linestyle='--', lw = 0.3) \n",
    "herb_patch = ax.scatter([],[], c='Gold', marker = \"o\", s = 20, label = \"herb\")\n",
    "woody_patch = ax.scatter([],[], c='ForestGreen', marker = \"o\",  s = 20, label = \"woody\")\n",
    "plt.legend(handles=[herb_patch, woody_patch], loc=\"center left\", fontsize=15,edgecolor='white', facecolor='white') \n",
    "plt.savefig(r'C:\\\\XXXXXX\\\\point_red_herb_woody1.png', dpi=600, bbox_inches = 'tight')\n"
   ]
  },
  {
   "cell_type": "markdown",
   "metadata": {},
   "source": [
    "continent\\\n",
    "https://www.arcgis.com/home/item.html?id=3c4741e22e2e4af2bd4050511b9fc6ad#!"
   ]
  },
  {
   "cell_type": "code",
   "execution_count": null,
   "metadata": {},
   "outputs": [],
   "source": [
    "continent = rixary.open_rasterio(r'C:XXXXX\\\\continent.tif')\n",
    "\n",
    "lon_con = continent['x'].values.tolist() \n",
    "lat_con = continent['y'].values.tolist()\n",
    "cont = continent.sel(band = 1).values\n",
    "cont = np.array(cont, dtype=float)\n",
    "\n",
    "lon_indexs_herb = find_index(data_anals_herb['Longitude'].tolist(), lon_con) \n",
    "lat_indexs_herb = find_index(data_anals_herb['Latitude'].tolist(), lat_con)\n",
    "\n",
    "lon_indexs_woody = find_index(data_anals_woody['Longitude'].tolist(), lon_con) \n",
    "lat_indexs_woody = find_index(data_anals_woody['Latitude'].tolist(), lat_con)\n",
    "\n",
    "# continent\n",
    "cont_herb = []\n",
    "for (lon_index,lat_index) in zip(lon_indexs_herb,lat_indexs_herb):\n",
    "    cont_herb.append(cont[lat_index, lon_index])\n",
    "\n",
    "cont_woody = []\n",
    "for (lon_index,lat_index) in zip(lon_indexs_woody,lat_indexs_woody):\n",
    "    cont_woody.append(cont[lat_index, lon_index])\n",
    "\n",
    "belong_cont =dict({'herb':cont_herb,'woody':cont_woody})\n",
    "cont_names = dict({'5':['South America'],'6':['Oceania'],'2':['North America'],'3':['Europe'],'1':['Asia'],'4':['Africa']})\n",
    "# ({'4':['Africa'],'1':['Asia'],'3':['Europe'],'2':['North America'],'6':['Oceania'],'5':['South America']})\n",
    "cont_count = pd.DataFrame()\n",
    "for plant,belong in belong_cont.items():\n",
    "    count_all=[]\n",
    "    for key,value in cont_names.items():\n",
    "        if value != ['Oceania']:\n",
    "            count_i = belong.count(int(key))\n",
    "            count_all.append(count_i)\n",
    "        else:\n",
    "            count_i = belong.count(int(key))+belong.count(7)\n",
    "            count_all.append(count_i)\n",
    "    cont_count[plant]=count_all\n",
    "cont_count\n",
    "nmae_x=['herbaceous','woody']\n",
    "cont_names_list = ['South America','Oceania','North America','Europe','Asia','Africa']\n",
    "\n",
    "from matplotlib import rcParams\n",
    "\n",
    "config = {\n",
    "    \"font.family\":'Times New Roman',  \n",
    "    \"axes.unicode_minus\": False ,\n",
    "    \"font.size\": 18\n",
    "}\n",
    "rgbcolor=['#5d73af', '#d38870', '#3c5488', '#267b6e', '#3e9bb1', '#cd422e']\n",
    "# rcParams.update(config)\n",
    "fig, ax = plt.subplots(figsize=(8,8))\n",
    "p1 = ax.bar(nmae_x, cont_count.iloc[0,:], label=cont_names_list[0],color=rgbcolor[0])\n",
    "p2 = ax.bar(nmae_x, cont_count.iloc[1,:], label=cont_names_list[1],color=rgbcolor[1],bottom=[sum(cont_count.iloc[:1,0].tolist()),sum(cont_count.iloc[:1,1].tolist())])\n",
    "p3 = ax.bar(nmae_x, cont_count.iloc[2,:], label=cont_names_list[2],color=rgbcolor[2],bottom=[sum(cont_count.iloc[:2,0].tolist()),sum(cont_count.iloc[:2,1].tolist())])\n",
    "p4 = ax.bar(nmae_x, cont_count.iloc[3,:], label=cont_names_list[3],color=rgbcolor[3],bottom=[sum(cont_count.iloc[:3,0].tolist()),sum(cont_count.iloc[:3,1].tolist())])\n",
    "p5 = ax.bar(nmae_x, cont_count.iloc[4,:], label=cont_names_list[4],color=rgbcolor[4],bottom=[sum(cont_count.iloc[:4,0].tolist()),sum(cont_count.iloc[:4,1].tolist())])\n",
    "p6 = ax.bar(nmae_x, cont_count.iloc[5,:], label=cont_names_list[5],color=rgbcolor[5],bottom=[sum(cont_count.iloc[:5,0].tolist()),sum(cont_count.iloc[:5,1].tolist())])\n",
    "ax.set_ylabel('Site count')\n",
    "ax.legend((p6[0], p5[0], p4[0],p3[0], p2[0],p1[0]), ('Africa', 'Asia', 'Europe', 'North America', 'Oceania', 'South America'),frameon=False, prop=config)\n",
    "ax.spines['top'].set_visible(False)\n",
    "ax.spines['right'].set_visible(False)\n",
    "plt.savefig(r'C:\\\\******\\\\continent.png', dpi=600, bbox_inches = 'tight')\n",
    "plt.show()"
   ]
  },
  {
   "cell_type": "markdown",
   "metadata": {},
   "source": [
    "biomeplot,AMT-AP"
   ]
  },
  {
   "cell_type": "code",
   "execution_count": null,
   "metadata": {},
   "outputs": [],
   "source": [
    "data_biom = data_anals[['AMT', 'AP','class']]\n",
    "with localconverter(ro.default_converter + pandas2ri.converter):\n",
    "    data_biom = ro.conversion.py2rpy(data_biom)\n",
    "\n",
    "globalenv['data_biom'] = data_biom\n",
    "\n",
    "rscript = \"\"\"library(plotbiomes)\n",
    "library(readxl)\n",
    "library(ggplot2)\n",
    "\n",
    "whittaker_base_plot() +\n",
    "  # add the temperature - precipitation data points\n",
    "  geom_point(data = dat_biom, \n",
    "             aes(x = AMT, \n",
    "                 y = AP/10,color = class), \n",
    "             size   = 3,\n",
    "             stroke = 2,\n",
    "             alpha  = 0.5) +\n",
    "  scale_color_manual(values = c(\"blue\",\"red\" ),name=\"\")+ \n",
    "  theme_bw()+\n",
    "  theme_classic()+ \n",
    "  theme(\n",
    "    legend.justification = c(0, 1), # pick the upper left corner of the legend box and\n",
    "    legend.position = c(0, 1), # adjust the position of the corner as relative to axis\n",
    "    legend.background = element_rect(fill = NA), # transparent legend background\n",
    "    legend.box = \"horizontal\", # horizontal arrangement of multiple legends\n",
    "    legend.spacing.x = unit(0.5, units = \"cm\"), # horizontal spacing between legends\n",
    "    legend.key.size = unit(0.8, \"cm\"),\n",
    "    panel.grid = element_blank(), # eliminate grids\n",
    "    text = element_text(family = 'serif',size=25)\n",
    "  )\n",
    "\n",
    "ggsave(filename = \"C:/******/MAT_MAP.png\",\n",
    "       width = 8,\n",
    "       height = 8,\n",
    "       dpi = 600)\"\"\""
   ]
  },
  {
   "attachments": {},
   "cell_type": "markdown",
   "metadata": {},
   "source": [
    "## Random Forest\n",
    "### set parameter\n",
    "ntrees for herb"
   ]
  },
  {
   "cell_type": "code",
   "execution_count": null,
   "metadata": {},
   "outputs": [],
   "source": [
    "%%capture --no-display\n",
    "\n",
    "# Random Forest\n",
    "from sklearn.ensemble import RandomForestRegressor\n",
    "from sklearn.model_selection import GridSearchCV\n",
    "from sklearn.model_selection import cross_val_score\n",
    "\n",
    "location = ['abs_lat']\n",
    "feature_name = cli_colnames + soil_colnames + location# name of all feature\n",
    "\n",
    "cross = []\n",
    "for i  in trange(0,200,10):\n",
    "    rf = RandomForestRegressor(n_estimators=i+1, max_features= len(feature_name), n_jobs=-1, random_state=42)\n",
    "    rf_fit = rf.fit(data_anals_herb[feature_name], data_anals_herb['Herbivory'])\n",
    "    mse_score = ((rf_fit.predict(data_anals_herb[feature_name])-data_anals_herb['Herbivory'])**2).mean()\n",
    "    cross.append(mse_score)\n",
    "    \n",
    "plt.plot(range(1,201,10),cross)\n",
    "plt.xlabel('n_estimators')\n",
    "plt.ylabel('MSE')\n",
    "plt.title('a', loc = 'left', fontsize=30)\n",
    "plt.title('The n-trees selection in random forest of herb')\n",
    "plt.savefig(r'C:\\\\Users\\\\*****\\\\photo\\\\herb_ntrees.png', dpi=600, bbox_inches = 'tight')\n",
    "plt.show()\n"
   ]
  },
  {
   "attachments": {},
   "cell_type": "markdown",
   "metadata": {},
   "source": [
    "ntrees for woody"
   ]
  },
  {
   "cell_type": "code",
   "execution_count": null,
   "metadata": {},
   "outputs": [],
   "source": [
    "cross = []\n",
    "for i  in trange(0,200,10):\n",
    "    rf = RandomForestRegressor(n_estimators=i+1, max_features= len(feature_name), n_jobs=-1, random_state=42)\n",
    "    rf_fit = rf.fit(data_anals_woody[feature_name], data_anals_woody['Herbivory'])\n",
    "    mse_score = ((rf_fit.predict(data_anals_woody[feature_name])-data_anals_woody['Herbivory'])**2).mean()\n",
    "    # cross_score = -cross_val_score(rf, data_anals[feature_name], data_anals['Herbivory'], cv=5, scoring='neg_mean_squared_error').mean() #交叉验证的MSE\n",
    "    cross.append(mse_score)\n",
    "    \n",
    "plt.plot(range(1,201,10),cross)\n",
    "plt.xlabel('n_estimators')\n",
    "plt.ylabel('MSE')\n",
    "plt.title('b', loc = 'left', fontsize=30)\n",
    "plt.title('The n-trees selection in random forest of woody')\n",
    "plt.savefig(r'C:\\\\Users\\\\loner\\\\lianxi\\\\photo\\\\woody_ntrees.png', dpi=600, bbox_inches = 'tight')\n",
    "plt.show()"
   ]
  },
  {
   "attachments": {},
   "cell_type": "markdown",
   "metadata": {},
   "source": [
    "### Build model\n",
    "importance for herb"
   ]
  },
  {
   "cell_type": "code",
   "execution_count": null,
   "metadata": {},
   "outputs": [],
   "source": [
    "import matplotlib.patches as mpatches\n",
    "from sklearn.ensemble import RandomForestRegressor\n",
    "\n",
    "\n",
    "forest_herb = RandomForestRegressor(n_estimators=150, max_features=len(feature_name), random_state=42)\n",
    "forest_herb.fit(data_anals_herb[feature_name], data_anals_herb['Herbivory'])\n",
    "\n",
    "importance = forest_herb.feature_importances_\n",
    "imp_herb = pd.DataFrame({'name': feature_name, 'importance': importance, \n",
    "    'color':['#778899']*len(cli_colnames) + ['#D2B48C']*len(soil_colnames)\n",
    "            + ['#4682B4']*len(location) + ['#BC8F8F']*len(hum_colnames)}).sort_values(by=['importance'])  # Ascending order of importance\n",
    "\n",
    "\n",
    "fig8, ax8 = plt.subplots(figsize=(6, 12))\n",
    "bar = plt.barh(imp_herb['name'], imp_herb['importance'], color= imp_herb['color'],align=\"center\", tick_label=imp_herb['name'])\n",
    "cli_patch = mpatches.Patch(color='#778899', label='climate')\n",
    "soi_patch = mpatches.Patch(color='#D2B48C', label='soil')\n",
    "loc_patch = mpatches.Patch(color='#4682B4', label='location')\n",
    "hum_patch = mpatches.Patch(color='#BC8F8F', label='human')\n",
    "plt.legend(handles=[cli_patch, soi_patch, loc_patch, hum_patch], loc=\"lower right\", borderaxespad=2)\n",
    "plt.title('The importance of variables in herb')\n",
    "plt.savefig(r'C:\\\\Users\\\\*****\\\\photo\\\\herb_imp.png', dpi=600, bbox_inches = 'tight')\n",
    "plt.show()"
   ]
  },
  {
   "attachments": {},
   "cell_type": "markdown",
   "metadata": {},
   "source": [
    "importance for woody"
   ]
  },
  {
   "cell_type": "code",
   "execution_count": null,
   "metadata": {},
   "outputs": [],
   "source": [
    "forest_woody = RandomForestRegressor(n_estimators=150, max_features=len(feature_name), random_state=42)\n",
    "forest_woody.fit(data_anals_woody[feature_name], data_anals_woody['Herbivory'])\n",
    "\n",
    "importance = forest_woody.feature_importances_\n",
    "imp_woody = pd.DataFrame({'name': feature_name, 'importance': importance, \n",
    "    'color':['#778899']*len(cli_colnames) + ['#D2B48C']*len(soil_colnames)\n",
    "            + ['#4682B4']*len(location) + ['#BC8F8F']*len(hum_colnames)}).sort_values(by=['importance'])  # 建立dataframe格式的数据，并将重要性升序排列  \n",
    "\n",
    "fig9, ax9 = plt.subplots(figsize=(6, 12))\n",
    "bar = plt.barh(imp_woody['name'], imp_woody['importance'], color= imp_woody['color'],align=\"center\", tick_label=imp_woody['name'])\n",
    "cli_patch = mpatches.Patch(color='#778899', label='climate') # 创建一个 artist用于添加图例\n",
    "soi_patch = mpatches.Patch(color='#D2B48C', label='soil')\n",
    "loc_patch = mpatches.Patch(color='#4682B4', label='location')\n",
    "hum_patch = mpatches.Patch(color='#BC8F8F', label='human')\n",
    "plt.legend(handles=[cli_patch, soi_patch, loc_patch, hum_patch], loc=\"lower right\", borderaxespad=2)\n",
    "plt.title('The importance of variables in woody')\n",
    "plt.savefig(r'C:\\\\Users\\\\******\\\\photo\\\\woody_imp.png', dpi=600, bbox_inches = 'tight')\n",
    "plt.show()\n"
   ]
  },
  {
   "attachments": {},
   "cell_type": "markdown",
   "metadata": {},
   "source": [
    "### Select Features\n",
    "Select the most importance variables using the R-package VSURF\\\n",
    "#### select in herb"
   ]
  },
  {
   "cell_type": "code",
   "execution_count": null,
   "metadata": {},
   "outputs": [],
   "source": [
    "importr('VSURF')\n",
    "\n",
    "data_sel = (data_anals_herb[feature_name]).copy()\n",
    "data_sel['Herbivory'] = data_anals_herb['Herbivory']\n",
    "with localconverter(ro.default_converter + pandas2ri.converter):\n",
    "    data_sel_r = ro.conversion.py2rpy(data_sel)\n",
    "\n",
    "\n",
    "globalenv['data_sel_r'] = data_sel_r\n",
    "rscript = \"\"\"\n",
    "set.seed(42)\n",
    "rf_sel <- VSURF(Herbivory ~., data = data_sel_r) # , ncores= 4, parallel=TRUE\n",
    "summary(rf_sel)\n",
    "\"\"\"\n",
    "r(rscript)\n"
   ]
  },
  {
   "attachments": {},
   "cell_type": "markdown",
   "metadata": {},
   "source": [
    "First，thresholding step"
   ]
  },
  {
   "cell_type": "code",
   "execution_count": null,
   "metadata": {},
   "outputs": [],
   "source": [
    "rscript = \"\"\"\n",
    "figure = plot(rf_sel, step = \"thres\", imp.sd = FALSE, var.names = TRUE, cex.lab=1.4)\n",
    "dev.off()\n",
    "png(filename = 'C:/Users/loner/*****/pngvsurf/thres.png',width = 800,height = 500)\n",
    "rf_prd <- colnames(data_sel_r)[rf_sel$varselect.thres] \n",
    "rf_prd\n",
    "\"\"\"\n",
    "r(rscript)"
   ]
  },
  {
   "attachments": {},
   "cell_type": "markdown",
   "metadata": {},
   "source": [
    "Second，interpretation step"
   ]
  },
  {
   "cell_type": "code",
   "execution_count": null,
   "metadata": {},
   "outputs": [],
   "source": [
    "rscript = \"\"\"\n",
    "figure = plot(rf_sel, step = \"interp\", imp.sd = FALSE, var.names = TRUE, cex.lab=1.4)\n",
    "dev.off()\n",
    "png(filename = 'C:/Users/loner/*****/pngvsurf/interp.png',width = 800,height = 500)\n",
    "rf_inter <- colnames(data_sel_r)[rf_sel$varselect_interp]\n",
    "rf_inter\n",
    "\"\"\"\n",
    "r(rscript)"
   ]
  },
  {
   "attachments": {},
   "cell_type": "markdown",
   "metadata": {},
   "source": [
    "Third，prediction step"
   ]
  },
  {
   "cell_type": "code",
   "execution_count": null,
   "metadata": {},
   "outputs": [],
   "source": [
    "rscript = \"\"\"\n",
    "figure = plot(rf_sel, step = \"pred\", imp.sd = FALSE, var.names = TRUE, cex.lab=1.4)\n",
    "title(main=\"a\", cex.main=3, adj=0)\n",
    "dev.off()\n",
    "png(filename = 'C:/Users/loner/*******/pngvsurf/pred.png',width = 800,height = 500)\n",
    "rf_prd <- colnames(data_sel_r)[rf_sel$varselect.pred]\n",
    "rf_prd\n",
    "\"\"\"\n",
    "print(r(rscript))"
   ]
  },
  {
   "attachments": {},
   "cell_type": "markdown",
   "metadata": {},
   "source": [
    "#### select in woody"
   ]
  },
  {
   "cell_type": "code",
   "execution_count": null,
   "metadata": {},
   "outputs": [],
   "source": [
    "importr('VSURF')\n",
    "\n",
    "data_sel = (data_anals_woody[feature_name]).copy()\n",
    "data_sel['Herbivory'] = data_anals_woody['Herbivory']\n",
    "with localconverter(ro.default_converter + pandas2ri.converter):\n",
    "    data_sel_r = ro.conversion.py2rpy(data_sel)\n",
    "\n",
    "\n",
    "globalenv['data_sel_r'] = data_sel_r\n",
    "rscript = \"\"\"\n",
    "set.seed(42)\n",
    "rf.sel <- VSURF(Herbivory ~., data = data_sel_r)\n",
    "summary(rf.sel)\n",
    "\"\"\"\n",
    "r(rscript)\n"
   ]
  },
  {
   "attachments": {},
   "cell_type": "markdown",
   "metadata": {},
   "source": [
    "First，thresholding step"
   ]
  },
  {
   "cell_type": "code",
   "execution_count": null,
   "metadata": {},
   "outputs": [],
   "source": [
    "rscript = \"\"\"\n",
    "figure = plot(rf.sel, step = \"thres\", imp.sd = FALSE, var.names = TRUE, cex.lab=1.4)\n",
    "dev.off()\n",
    "png(filename = 'C:/Users/loner/*******/pngvsurf/thres.png',width = 800,height = 500)\n",
    "rf.prd <- colnames(data_sel_r)[rf.sel$varselect.thres]\n",
    "rf.prd\n",
    "\"\"\"\n",
    "r(rscript)"
   ]
  },
  {
   "attachments": {},
   "cell_type": "markdown",
   "metadata": {},
   "source": [
    "Second，interpretation step"
   ]
  },
  {
   "cell_type": "code",
   "execution_count": null,
   "metadata": {},
   "outputs": [],
   "source": [
    "rscript = \"\"\"\n",
    "figure = plot(rf.sel, step = \"interp\", imp.sd = FALSE, var.names = TRUE, cex.lab=1.4)\n",
    "dev.off()\n",
    "png(filename = 'C:/Users/loner/********/pngvsurf/interp.png',width = 800,height = 500)\n",
    "rf.prd <- colnames(data_sel_r)[rf.sel$varselect.interp]\n",
    "rf.prd\n",
    "\"\"\"\n",
    "r(rscript)"
   ]
  },
  {
   "attachments": {},
   "cell_type": "markdown",
   "metadata": {},
   "source": [
    "Third，prediction step"
   ]
  },
  {
   "cell_type": "code",
   "execution_count": null,
   "metadata": {},
   "outputs": [],
   "source": [
    "rscript = \"\"\"\n",
    "figure = plot(rf.sel, step = \"pred\", imp.sd = FALSE, var.names = TRUE, cex.lab=1.4)\n",
    "title(main=\"b\", cex.main=3, adj=0)\n",
    "dev.off()\n",
    "png(filename = 'C:/Users/******/pngvsurf/pred.png',width = 800,height = 500)\n",
    "rf.prd <- colnames(data_sel_r)[rf.sel$varselect.pred]\n",
    "rf.prd\n",
    "\"\"\"\n",
    "print(r(rscript))"
   ]
  },
  {
   "attachments": {},
   "cell_type": "markdown",
   "metadata": {},
   "source": [
    "##  Relationships between herbivory and the most important predictor variables\n",
    "###  For herb plants\n",
    "Linear models"
   ]
  },
  {
   "cell_type": "code",
   "execution_count": null,
   "metadata": {},
   "outputs": [],
   "source": [
    "# \"AP\"         \"T_CEC_CLAY\" \"PDQ\"        \"TDR\"        \"TWEQ\"      \n",
    "# \"abs_lat\" \n",
    "\n",
    "plt.rcParams['axes.unicode_minus'] = False # Display negative sign\n",
    "\n",
    "selec_fec_herb = [\"AP\", \"T_CEC_CLAY\", \"PDQ\", \"TDR\", \"TWEQ\", \"abs_lat\"]\n",
    "selec_fec_herb_unit = ['mm', 'cmol/kg', 'mm','°C','°C','°']\n",
    "sort = ['a','b','c','d','e','f','g','h']\n",
    "selec_herb_xname = []\n",
    "selec_herb_ximp = []\n",
    "# importance of variables\n",
    "for name in selec_fec_herb:\n",
    "    selec_herb_xname.append(imp_herb.loc[imp_herb['name'] ==name]['name'].values.tolist()[0])\n",
    "    selec_herb_ximp.append(round(imp_herb.loc[imp_herb['name'] ==name]['importance'].values.tolist()[0],3))\n",
    "    \n",
    "selec_herb_x = pd.DataFrame({'name': selec_herb_xname, 'unit': selec_fec_herb_unit,\n",
    "                             'importance': selec_herb_ximp}).sort_values(by=['importance'], ascending = False)\n",
    "selec_herb_x.index = range(len(selec_herb_x))\n",
    "# linear models\n",
    "def scatter_plot(xlabel, ylabel, xvalue, yvalue, data):\n",
    "    sns.regplot(x=xvalue, y=yvalue, data=data[[xvalue, yvalue]],line_kws={'linewidth':2,'color':'red'}, scatter_kws={'s':20}) \n",
    "    plt.xlabel(xlabel, fontsize=20)\n",
    "    plt.ylabel(ylabel, fontsize=15)\n",
    "    plt.xticks(fontsize=15)\n",
    "    plt.yticks(fontsize=15)\n",
    "\n",
    "\n",
    "ylable_on = [1,4,7]\n",
    "\n",
    "for i in range(len(selec_fec_herb)):\n",
    "    # plt.subplot(2,3,i+1)\n",
    "    plt.figure(figsize=(6,6))\n",
    "    plt.tight_layout()\n",
    "    if i+1 in ylable_on:\n",
    "        if selec_herb_x['unit'][i] == '':\n",
    "            scatter_plot(xlabel = selec_herb_x['name'][i], ylabel = 'Herbivory', xvalue = selec_herb_x['name'][i], yvalue = 'Herbivory',\n",
    "                        data = data_anals_herb)\n",
    "            \n",
    "            plt.title(sort[i], x= -0.12, y=0.95, fontdict={'size':25, 'weight':'bold'})\n",
    "            plt.ylim(0,100)\n",
    "            plt.savefig(r'C:\\\\Users\\\\*******\\\\photo\\\\herb'+selec_herb_x['name'][i]+'linear.png', dpi=600, bbox_inches='tight')\n",
    "        else:\n",
    "            scatter_plot(xlabel = selec_herb_x['name'][i] + '('+selec_herb_x['unit'][i]+')', ylabel = 'Herbivory', xvalue = selec_herb_x['name'][i], yvalue = 'Herbivory',\n",
    "                        data = data_anals_herb)\n",
    "            \n",
    "            plt.title(sort[i], x= -0.12, y=0.95, fontdict={'size':25, 'weight':'bold'})\n",
    "            plt.ylim(0,100)\n",
    "            plt.savefig(r'C:\\\\Users\\\\*******\\\\photo\\\\herb'+selec_herb_x['name'][i]+'linear.png', dpi=600, bbox_inches='tight')\n",
    "    else:\n",
    "        if selec_herb_x['unit'][i] == '':\n",
    "            scatter_plot(xlabel = selec_herb_x['name'][i], ylabel = '', xvalue = selec_herb_x['name'][i], yvalue = 'Herbivory',\n",
    "                        data = data_anals_herb)\n",
    "            plt.title(sort[i], x= -0.12, y=0.95, fontdict={'size':25, 'weight':'bold'})\n",
    "            plt.ylim(0,100)\n",
    "            plt.savefig(r'C:\\\\Users\\\\*******\\\\photo\\\\herb'+selec_herb_x['name'][i]+'linear.png', dpi=600, bbox_inches='tight')\n",
    "        else:\n",
    "            scatter_plot(xlabel = selec_herb_x['name'][i] + '('+selec_herb_x['unit'][i]+')', ylabel = '', xvalue = selec_herb_x['name'][i], yvalue = 'Herbivory',\n",
    "                        data = data_anals_herb)\n",
    "            plt.title(sort[i], x= -0.12, y=0.95, fontdict={'size':25, 'weight':'bold'})\n",
    "            plt.ylim(0,100)\n",
    "            plt.savefig(r'C:\\\\Users\\\\*******\\\\photo\\\\herb'+selec_herb_x['name'][i]+'linear.png', dpi=600, bbox_inches='tight')\n",
    "        "
   ]
  },
  {
   "attachments": {},
   "cell_type": "markdown",
   "metadata": {},
   "source": [
    " non-linear models"
   ]
  },
  {
   "cell_type": "code",
   "execution_count": null,
   "metadata": {},
   "outputs": [],
   "source": [
    "plt.rcParams['axes.unicode_minus'] = False # Display negative sign\n",
    "\n",
    "selec_fec_herb = [\"AP\", \"T_CEC_CLAY\", \"PDQ\", \"TDR\", \"TWEQ\", \"abs_lat\"]\n",
    "selec_fec_herb_unit = ['mm', 'cmol/kg', 'mm','°C','°C','°']\n",
    "selec_herb_xname = []\n",
    "selec_herb_ximp = []\n",
    "# importance of variables\n",
    "for name in selec_fec_herb:\n",
    "    selec_herb_xname.append(imp_herb.loc[imp_herb['name'] ==name]['name'].values.tolist()[0])\n",
    "    selec_herb_ximp.append(round(imp_herb.loc[imp_herb['name'] ==name]['importance'].values.tolist()[0],3))\n",
    "    \n",
    "selec_herb_x = pd.DataFrame({'name': selec_herb_xname, 'unit': selec_fec_herb_unit,\n",
    "                             'importance': selec_herb_ximp}).sort_values(by=['importance'], ascending = False)\n",
    "selec_herb_x.index = range(len(selec_herb_x)) \n",
    "\n",
    "# highest degree of 2\n",
    "def scatter_plot(xlabel, ylabel, xvalue, yvalue, data):\n",
    "    # order=2 means quadratic fitting\n",
    "    sns.lmplot(x=xvalue, y=yvalue, data=data[[xvalue, yvalue]],order=2,line_kws={'linewidth':2,'color':'red'}, scatter_kws={'s':20})\n",
    "    sns.despine(top=False, right=False)\n",
    "    plt.xlabel(xlabel, fontsize=20)\n",
    "    plt.ylabel(ylabel, fontsize=15)\n",
    "    plt.xticks(fontsize=15)\n",
    "    plt.yticks(fontsize=15)\n",
    "\n",
    "\n",
    "ylable_on = [1,4,7] \n",
    "\n",
    "for i in range(len(selec_fec_herb)):\n",
    "    plt.figure(figsize=(6,6))\n",
    "    plt.tight_layout()\n",
    "    if i+1 in ylable_on:\n",
    "        if selec_herb_x['unit'][i] == '':\n",
    "            \n",
    "            scatter_plot(xlabel = selec_herb_x['name'][i], ylabel = 'Herbivory', xvalue = selec_herb_x['name'][i], yvalue = 'Herbivory',\n",
    "                        data = data_anals_herb)\n",
    "            \n",
    "            plt.title(sort[i], x= -0.12, y=0.95, fontdict={'size':25, 'weight':'bold'})\n",
    "            plt.ylim(0,100)\n",
    "            plt.savefig(r'C:\\\\Users\\\\******\\\\photo\\\\herb'+selec_herb_x['name'][i]+'nonlinear.png', dpi=600)\n",
    "        else:\n",
    "            \n",
    "            scatter_plot(xlabel = selec_herb_x['name'][i] + '('+selec_herb_x['unit'][i]+')', ylabel = 'Herbivory', xvalue = selec_herb_x['name'][i], yvalue = 'Herbivory',\n",
    "                        data = data_anals_herb)\n",
    "            \n",
    "            plt.title(sort[i], x= -0.12, y=0.95, fontdict={'size':25, 'weight':'bold'})\n",
    "            plt.ylim(0,100)\n",
    "            plt.savefig(r'C:\\\\Users\\\\******\\\\photo\\\\herb'+selec_herb_x['name'][i]+'nonlinear.png', dpi=600)\n",
    "    else:\n",
    "        if selec_herb_x['unit'][i] == '':\n",
    "            \n",
    "            scatter_plot(xlabel = selec_herb_x['name'][i], ylabel = '', xvalue = selec_herb_x['name'][i], yvalue = 'Herbivory',\n",
    "                        data = data_anals_herb)\n",
    "            plt.title(sort[i], x= -0.12, y=0.95, fontdict={'size':25, 'weight':'bold'})\n",
    "            plt.ylim(0,100)\n",
    "            plt.savefig(r'C:\\\\Users\\\\******\\\\photo\\\\herb'+selec_herb_x['name'][i]+'nonlinear.png', dpi=600)\n",
    "        else:\n",
    "            \n",
    "            scatter_plot(xlabel = selec_herb_x['name'][i] + '('+selec_herb_x['unit'][i]+')', ylabel = '', xvalue = selec_herb_x['name'][i], yvalue = 'Herbivory',\n",
    "                        data = data_anals_herb)\n",
    "            plt.title(sort[i], x= -0.12, y=0.95, fontdict={'size':25, 'weight':'bold'})\n",
    "            plt.ylim(0,100)\n",
    "            plt.savefig(r'C:\\\\Users\\\\******\\\\photo\\\\herb'+selec_herb_x['name'][i]+'nonlinear.png', dpi=600)\n"
   ]
  },
  {
   "attachments": {},
   "cell_type": "markdown",
   "metadata": {},
   "source": [
    "AIC and $R^2$"
   ]
  },
  {
   "cell_type": "code",
   "execution_count": null,
   "metadata": {},
   "outputs": [],
   "source": [
    "x1 = []\n",
    "x2 = []\n",
    "x3 = []\n",
    "x4 = []\n",
    "for i in range(len(selec_fec_herb)):\n",
    "    data_sel_aic = pd.DataFrame({'name_aic': (data_anals_herb[selec_herb_x['name'][i]]).copy()})\n",
    "    data_sel_aic['Herbivory'] = data_anals_herb['Herbivory']\n",
    "    # data_sel_aic.columns=[['name_aic','Herbivory' ]]\n",
    "\n",
    "    with localconverter(ro.default_converter + pandas2ri.converter):\n",
    "        data_sel_aic_r = ro.conversion.py2rpy(data_sel_aic)\n",
    "\n",
    "    globalenv['data_sel_aic_r'] = data_sel_aic_r\n",
    "\n",
    "    rscript = \"\"\"\n",
    "    reg1<- lm(Herbivory~name_aic,data = data_sel_aic_r)\n",
    "    reg2<- lm(Herbivory~poly(name_aic,2,raw = TRUE),data = data_sel_aic_r)\n",
    "    x1<- AIC(reg1)\n",
    "    x2<- AIC(reg2)\n",
    "    x3<- summary(reg1)$r.squared\n",
    "    x4<- summary(reg2)$r.squared\n",
    "    \"\"\"\n",
    "    r(rscript)\n",
    "    x1.append(r['x1'][0])\n",
    "    x2.append(r['x2'][0])\n",
    "    x3.append(r['x3'][0])\n",
    "    x4.append(r['x4'][0])\n",
    "\n",
    "herb_aic = pd.DataFrame({'name': selec_herb_x['name'], 'x1':x1, 'x2':x2, 'x3':x3, 'x4':x4})\n",
    "herb_aic.to_excel('C:/Users/*****/photo/data_anals_herb_result.xlsx')\n",
    "herb_aic"
   ]
  },
  {
   "attachments": {},
   "cell_type": "markdown",
   "metadata": {},
   "source": [
    "###  For woody plants\n",
    "Linear models"
   ]
  },
  {
   "cell_type": "code",
   "execution_count": null,
   "metadata": {},
   "outputs": [],
   "source": [
    "# \"PDM\"     \"TWM\"     \"PWM\"     \"PDQ\"     \"TCM\"     \"Isoth\"   \"TDR\"    \n",
    "# [8] \"abs_lat\"\n",
    "selec_fec_woody = [\"PDM\", \"TWM\", \"PWM\", \"PDQ\", \"TCM\", \"Isoth\", \"TDR\", \"abs_lat\"]\n",
    "selec_fec_woody_unit = ['mm', '°C', 'mm', 'mm', '°C', '', '°C', '°']\n",
    "selec_woody_xname = []\n",
    "selec_woody_ximp = []\n",
    "# importance of variables\n",
    "for name in selec_fec_woody:\n",
    "    selec_woody_xname.append(imp_woody.loc[imp_woody['name'] ==name]['name'].values.tolist()[0])\n",
    "    selec_woody_ximp.append(round(imp_woody.loc[imp_woody['name'] ==name]['importance'].values.tolist()[0], 3))\n",
    "    \n",
    "selec_woody_x = pd.DataFrame({'name': selec_woody_xname, 'unit': selec_fec_woody_unit,\n",
    "                             'importance': selec_woody_ximp}).sort_values(by=['importance'],ascending = False)\n",
    "selec_woody_x.index = range(len(selec_woody_x)) \n",
    "# Linear models\n",
    "def scatter_plot(xlabel, ylabel, xvalue, yvalue, data):\n",
    "    sns.regplot(x=xvalue, y=yvalue, data=data[[xvalue, yvalue]],line_kws={'linewidth':2,'color':'red'}, scatter_kws={'s':20}) \n",
    "    plt.xlabel(xlabel, fontsize=20)\n",
    "    plt.ylabel(ylabel, fontsize=15)\n",
    "    plt.xticks(fontsize=15)\n",
    "    plt.yticks(fontsize=15)\n",
    "\n",
    "for i in range(len(selec_fec_woody)):\n",
    "    plt.figure(figsize=(6,6))\n",
    "    plt.tight_layout()\n",
    "    if i+1 in ylable_on:\n",
    "        if selec_woody_x['unit'][i] == '':\n",
    "            scatter_plot(xlabel = selec_woody_x['name'][i], ylabel = 'Herbivory', xvalue = selec_woody_x['name'][i], yvalue = 'Herbivory',\n",
    "                        data = data_anals_woody)\n",
    "            plt.title(sort[i], x= -0.12, y=0.95, fontdict={'size':25, 'weight':'bold'})\n",
    "            plt.ylim(0,100)\n",
    "            plt.savefig(r'C:\\\\Users\\\\******\\\\photo\\\\woody'+selec_woody_x['name'][i]+'linear.png', dpi=600,bbox_inches = 'tight')\n",
    "        else:\n",
    "            scatter_plot(xlabel = selec_woody_x['name'][i] + '('+selec_woody_x['unit'][i]+')', ylabel = 'Herbivory', xvalue = selec_woody_x['name'][i], yvalue = 'Herbivory',\n",
    "                        data = data_anals_woody)\n",
    "            plt.title(sort[i], x= -0.12, y=0.95, fontdict={'size':25, 'weight':'bold'})\n",
    "            plt.ylim(0,100)\n",
    "            plt.savefig(r'C:\\\\Users\\\\******\\\\photo\\\\woody'+selec_woody_x['name'][i]+'linear.png', dpi=600,bbox_inches = 'tight')\n",
    "    else:\n",
    "        if selec_woody_x['unit'][i] == '':\n",
    "            scatter_plot(xlabel = selec_woody_x['name'][i], ylabel = '', xvalue = selec_woody_x['name'][i], yvalue = 'Herbivory',\n",
    "                        data = data_anals_woody)\n",
    "            plt.title(sort[i], x= -0.12, y=0.95, fontdict={'size':25, 'weight':'bold'})\n",
    "            plt.ylim(0,100)\n",
    "            plt.savefig(r'C:\\\\Users\\\\******\\\\photo\\\\woody'+selec_woody_x['name'][i]+'linear.png', dpi=600,bbox_inches = 'tight')\n",
    "        else:\n",
    "            scatter_plot(xlabel = selec_woody_x['name'][i] + '('+selec_woody_x['unit'][i]+')', ylabel = '', xvalue = selec_woody_x['name'][i], yvalue = 'Herbivory',\n",
    "                        data = data_anals_woody)\n",
    "            plt.title(sort[i], x= -0.12, y=0.95, fontdict={'size':25, 'weight':'bold'})\n",
    "            plt.ylim(0,100)\n",
    "            plt.savefig(r'C:\\\\Users\\\\******\\\\photo\\\\woody'+selec_woody_x['name'][i]+'linear.png', dpi=600,bbox_inches = 'tight')\n",
    "            "
   ]
  },
  {
   "attachments": {},
   "cell_type": "markdown",
   "metadata": {},
   "source": [
    "non-linear models"
   ]
  },
  {
   "cell_type": "code",
   "execution_count": null,
   "metadata": {},
   "outputs": [],
   "source": [
    "# highest degree of 2\n",
    "def scatter_plot(xlabel, ylabel, xvalue, yvalue, data):\n",
    "    # order=2 means quadratic fitting\n",
    "    sns.lmplot(x=xvalue, y=yvalue, data=data[[xvalue, yvalue]],order=2,line_kws={'linewidth':2,'color':'red'}, scatter_kws={'s':20}) # , fit_reg = False该参数不显示回归线\n",
    "    sns.despine(top=False, right=False)\n",
    "    plt.xlabel(xlabel, fontsize=20)\n",
    "    plt.ylabel(ylabel, fontsize=15)\n",
    "    plt.xticks(fontsize=15)\n",
    "    plt.yticks(fontsize=15)\n",
    "\n",
    "\n",
    "ylable_on = [1,4,7]\n",
    "\n",
    "for i in range(len(selec_fec_woody)):\n",
    "    plt.figure(figsize=(6,6))\n",
    "    plt.tight_layout()\n",
    "    if i+1 in ylable_on:\n",
    "        if selec_woody_x['unit'][i] == '':\n",
    "            \n",
    "            scatter_plot(xlabel = selec_woody_x['name'][i], ylabel = 'Herbivory', xvalue = selec_woody_x['name'][i], yvalue = 'Herbivory',\n",
    "                        data = data_anals_woody)\n",
    "            \n",
    "            plt.title(sort[i], x= -0.12, y=0.95, fontdict={'size':25, 'weight':'bold'})\n",
    "            plt.ylim(0,100)\n",
    "            plt.savefig(r'C:\\\\Users\\\\*****\\\\photo\\\\woody'+selec_woody_x['name'][i]+'nonlinear.png', dpi=600)\n",
    "        else:\n",
    "            \n",
    "            scatter_plot(xlabel = selec_woody_x['name'][i] + '('+selec_woody_x['unit'][i]+')', ylabel = 'Herbivory', xvalue = selec_woody_x['name'][i], yvalue = 'Herbivory',\n",
    "                        data = data_anals_woody)\n",
    "            \n",
    "            plt.title(sort[i], x= -0.12, y=0.95, fontdict={'size':25, 'weight':'bold'})\n",
    "            plt.ylim(0,100)\n",
    "            plt.savefig(r'C:\\\\Users\\\\*****\\\\photo\\\\woody'+selec_woody_x['name'][i]+'nonlinear.png', dpi=600)\n",
    "    else:\n",
    "        if selec_woody_x['unit'][i] == '':\n",
    "            \n",
    "            scatter_plot(xlabel = selec_woody_x['name'][i], ylabel = '', xvalue = selec_woody_x['name'][i], yvalue = 'Herbivory',\n",
    "                        data = data_anals_woody)\n",
    "            plt.title(sort[i], x= -0.12, y=0.95, fontdict={'size':25, 'weight':'bold'})\n",
    "            plt.ylim(0,100)\n",
    "            plt.savefig(r'C:\\\\Users\\\\*****\\\\photo\\\\woody'+selec_woody_x['name'][i]+'nonlinear.png', dpi=600)\n",
    "        else:\n",
    "            \n",
    "            scatter_plot(xlabel = selec_woody_x['name'][i] + '('+selec_woody_x['unit'][i]+')', ylabel = '', xvalue = selec_woody_x['name'][i], yvalue = 'Herbivory',\n",
    "                        data = data_anals_woody)\n",
    "            plt.title(sort[i], x= -0.12, y=0.95, fontdict={'size':25, 'weight':'bold'})\n",
    "            plt.ylim(0,100)\n",
    "            plt.savefig(r'C:\\\\Users\\\\*****\\\\photo\\\\woody'+selec_woody_x['name'][i]+'nonlinear.png', dpi=600)"
   ]
  },
  {
   "attachments": {},
   "cell_type": "markdown",
   "metadata": {},
   "source": [
    "AIC and $R^2$"
   ]
  },
  {
   "cell_type": "code",
   "execution_count": null,
   "metadata": {},
   "outputs": [],
   "source": [
    "x1 = []\n",
    "x2 = []\n",
    "x3 = []\n",
    "x4 = []\n",
    "for i in range(len(selec_fec_woody)):\n",
    "    data_sel_aic = pd.DataFrame({'name_aic': (data_anals_woody[selec_woody_x['name'][i]]).copy()})\n",
    "    data_sel_aic['Herbivory'] = data_anals_woody['Herbivory']\n",
    "    # data_sel_aic.columns=[['name_aic','Herbivory' ]]\n",
    "\n",
    "    with localconverter(ro.default_converter + pandas2ri.converter):\n",
    "        data_sel_aic_r = ro.conversion.py2rpy(data_sel_aic)\n",
    "\n",
    "    globalenv['data_sel_aic_r'] = data_sel_aic_r\n",
    "\n",
    "    rscript = \"\"\"\n",
    "    reg1<- lm(Herbivory~name_aic,data = data_sel_aic_r)\n",
    "    reg2<- lm(Herbivory~poly(name_aic,2,raw = TRUE),data = data_sel_aic_r)\n",
    "    x1<- AIC(reg1)\n",
    "    x2<- AIC(reg2)\n",
    "    x3<- summary(reg1)$r.squared\n",
    "    x4<- summary(reg2)$r.squared\n",
    "    \"\"\"\n",
    "    r(rscript)\n",
    "    x1.append(r['x1'][0])\n",
    "    x2.append(r['x2'][0])\n",
    "    x3.append(r['x3'][0])\n",
    "    x4.append(r['x4'][0])\n",
    "\n",
    "woody_aic = pd.DataFrame({'name': selec_woody_x['name'], 'x1':x1, 'x2':x2, 'x3':x3, 'x4':x4})\n",
    "woody_aic.to_excel('C:/Users/loner/lianxi/photo/data_anals_woody_result.xlsx')\n",
    "woody_aic"
   ]
  },
  {
   "attachments": {},
   "cell_type": "markdown",
   "metadata": {},
   "source": [
    "## Global prediction"
   ]
  },
  {
   "attachments": {},
   "cell_type": "markdown",
   "metadata": {},
   "source": [
    "### Data preparation"
   ]
  },
  {
   "cell_type": "code",
   "execution_count": null,
   "metadata": {},
   "outputs": [],
   "source": [
    "lon, lat=np.meshgrid(climate['x'], climate['y']) # Generate grid with latitude and longitude\n",
    "\n",
    "def list_nonest(lis):\n",
    "    new_list = []\n",
    "    for i in range(len(lis)):\n",
    "        new_list += lis[i]\n",
    "    return new_list\n",
    "\n",
    "# climate data\n",
    "data_envri = pd.DataFrame()\n",
    "for colname in cli_colnames:\n",
    "    dat = climate.loc[colname].values\n",
    "    data_envri[colname] = list_nonest(dat.tolist())\n",
    "\n",
    "# soil data\n",
    "for colname in soil_colnames:\n",
    "    dat = soil.loc[colname].values\n",
    "    data_envri[colname] = list_nonest(dat.tolist())\n",
    "\n",
    "# Absolute latitude\n",
    "abs_lat0 = abs(lat).tolist()\n",
    "data_envri['abs_lat'] = list_nonest(abs_lat0)\n",
    "\n",
    "# longitude\n",
    "Lon = lon.tolist()\n",
    "data_envri['Lon'] = list_nonest(Lon)\n",
    "\n",
    "data_envri = pd.read_csv('C:/Users/*****/data_envri.csv')"
   ]
  },
  {
   "attachments": {},
   "cell_type": "markdown",
   "metadata": {},
   "source": [
    "###  Global maps of herbivory\n",
    "Draw a prediction map based on the distribution of herb or woody plants\n"
   ]
  },
  {
   "cell_type": "code",
   "execution_count": null,
   "metadata": {},
   "outputs": [],
   "source": [
    "# NA means those areas where (1) data in any of the required predictors were missing\n",
    "#                            (2) land cover type was different to the plant type we predict\n",
    "# function to assign these areas the value NA\n",
    "def replac_to_na(herb_woody, predict):\n",
    "    mask = (np.isnan(herb_woody))\n",
    "    predict[mask] = np.nan\n",
    "    # climate\n",
    "    for colname in cli_colnames:\n",
    "        dat = climate.loc[colname].values\n",
    "        mask = (dat < -10000)\n",
    "        predict[mask] = np.nan\n",
    "        \n",
    "    # soil\n",
    "    for colname in soil_colnames:\n",
    "        dat = soil.loc[colname].values\n",
    "        mask = (dat < -10000)\n",
    "        predict[mask] = np.nan\n",
    "    # human foot\n",
    "    humfoot_na = np.array(list_nest(data_envri[\"human_foot\"], m, n))\n",
    "    mask = (humfoot_na < -10000)\n",
    "    predict[mask] = np.nan\n",
    "    return predict\n",
    "\n",
    "glc_plant = glc.sel(band = 1).values\n",
    "\n",
    "# region of herb is 8-11\n",
    "glc_herb = np.copy(glc_plant)\n",
    "glc_herb = np.array(glc_herb, dtype=float)\n",
    "glc_herb[glc_herb < 8] = np.nan\n",
    "glc_herb[glc_herb > 11] = np.nan\n",
    "\n",
    "# region of woody is 1-7\n",
    "glc_woody = np.copy(glc_plant)\n",
    "glc_woody = np.array(glc_woody, dtype=float)\n",
    "glc_woody[glc_woody > 7] = np.nan"
   ]
  },
  {
   "attachments": {},
   "cell_type": "markdown",
   "metadata": {},
   "source": [
    "### Prediction model of Random forest\n",
    "#### Predictive model for herb plants\n"
   ]
  },
  {
   "cell_type": "code",
   "execution_count": null,
   "metadata": {},
   "outputs": [],
   "source": [
    "from sklearn.ensemble import RandomForestRegressor\n",
    "# fit\n",
    "forest_pre_herb = RandomForestRegressor(n_estimators=150, max_features=len(selec_fec_herb), random_state=42, n_jobs=-1)\n",
    "forest_pre_herb.fit(data_anals_herb[selec_fec_herb], data_anals_herb['Herbivory'])\n",
    "pl_fit0_herb = forest_pre_herb.predict(data_envri[selec_fec_herb])\n",
    "\n",
    "# Structural transformation of data\n",
    "def list_nest(lis, m, n):\n",
    "    lis = lis.tolist()\n",
    "    lis_nest = []\n",
    "    for i in range(n, (m + 1) * n, n):\n",
    "        lis_nest.append(lis[i - n:i])\n",
    "    return lis_nest\n",
    "\n",
    "# shape\n",
    "m, n = len(climate['y']), len(climate['x'])\n",
    "# Convert to array\n",
    "pl_fit_herb = replac_to_na(glc_herb, np.array(list_nest(pl_fit0_herb, m, n)))\n",
    "pl_fit_herb"
   ]
  },
  {
   "attachments": {},
   "cell_type": "markdown",
   "metadata": {},
   "source": [
    "#### Plot map"
   ]
  },
  {
   "cell_type": "code",
   "execution_count": null,
   "metadata": {},
   "outputs": [],
   "source": [
    "import cartopy.crs as ccrs \n",
    "import cartopy.feature as cfeatur\n",
    "import cartopy.io as cio \n",
    "\n",
    "config = {\n",
    "    \"font.family\":'Times New Roman',\n",
    "    \"mathtext.fontset\": 'stix',\n",
    "    \"font.serif\": ['SimSun'],\n",
    "}\n",
    "mpl.rcParams.update(config)\n",
    "mpl.rcParams['axes.unicode_minus']=False\n",
    "\n",
    "# function to plot map\n",
    "def pre_plot(pre_value:np.array, colormap, col_min, col_max, pre_title:str):\n",
    "    fig, ax = plt.subplots(figsize=(15, 12), subplot_kw={'projection': ccrs.PlateCarree()})\n",
    "    plt.title(pre_title)\n",
    "    mapbar1 = ax.imshow(pre_value, cmap=colormap, extent=[-180,180,-90,90], vmin=col_min, vmax=col_max) \n",
    "    \n",
    "    ax.add_feature(cfeatur.OCEAN.with_scale('10m'), zorder=2)\n",
    "    ax.add_feature(cfeatur.LAKES.with_scale('10m'), zorder=2)\n",
    "    ax.gridlines(draw_labels=True, linestyle='--', lw=0.3) \n",
    "    cax = fig.add_axes([ax.get_position().x0, ax.get_position().y0-0.05, ax.get_position().width, 0.02]) \n",
    "    clb = plt.colorbar(mapbar1, cax=cax, orientation = 'horizontal')\n",
    "    clb.set_label('Herbivory')\n",
    "    plt.savefig(r'C:\\\\Users\\\\****\\\\photo\\\\' + pre_title + '.png', dpi=1200, bbox_inches = 'tight')\n",
    "\n",
    "pre_plot(pre_value = pl_fit_herb, colormap = newcmap, col_min = 0, col_max = 20, pre_title = 'Global herbivory prediction of herb')\n"
   ]
  },
  {
   "attachments": {},
   "cell_type": "markdown",
   "metadata": {},
   "source": [
    "#### Predictive model for woody plants"
   ]
  },
  {
   "cell_type": "code",
   "execution_count": null,
   "metadata": {},
   "outputs": [],
   "source": [
    "# fit\n",
    "forest_pre_woody = RandomForestRegressor(n_estimators=150, max_features=len(selec_fec_woody), random_state=42, n_jobs=-1)\n",
    "forest_pre_woody.fit(data_anals_woody[selec_fec_woody], data_anals_woody['Herbivory'])\n",
    "pl_fit0_woody = forest_pre_woody.predict(data_envri[selec_fec_woody])\n",
    "\n",
    "# Structural transformation of data\n",
    "def list_nest(lis, m, n):\n",
    "    lis = lis.tolist()\n",
    "    lis_nest = []\n",
    "    for i in range(n, (m + 1) * n, n):\n",
    "        lis_nest.append(lis[i - n:i])\n",
    "    return lis_nest\n",
    "\n",
    "# shape\n",
    "m, n = len(climate['y']), len(climate['x'])\n",
    "# Convert to array\n",
    "pl_fit_woody = replac_to_na(glc_woody, np.array(list_nest(pl_fit0_woody, m, n)))\n",
    "pl_fit_woody"
   ]
  },
  {
   "attachments": {},
   "cell_type": "markdown",
   "metadata": {},
   "source": [
    "plot map"
   ]
  },
  {
   "cell_type": "code",
   "execution_count": null,
   "metadata": {},
   "outputs": [],
   "source": [
    "pre_plot(pre_value = pl_fit_woody, colormap = newcmap, col_min = 0, col_max = 80, pre_title = 'Global herbivory prediction of woody')"
   ]
  },
  {
   "attachments": {},
   "cell_type": "markdown",
   "metadata": {},
   "source": [
    "prediction of herb and woody plants in one map"
   ]
  },
  {
   "cell_type": "code",
   "execution_count": null,
   "metadata": {},
   "outputs": [],
   "source": [
    "fig13, ax13 = plt.subplots(figsize=(15, 12), subplot_kw={'projection': ccrs.PlateCarree()})\n",
    "plt.title('Global herbivory prediction')\n",
    "mapbar1 = ax13.imshow(pl_fit_herb, cmap=newcmap, extent=[-180,180,-90,90], vmin=0, vmax=80)  \n",
    "ax13.imshow(pl_fit_woody, cmap=newcmap, extent=[-180,180,-90,90], vmin=0, vmax=80)  \n",
    "ax13.add_feature(cfeatur.OCEAN.with_scale('10m'), zorder=2) \n",
    "ax13.add_feature(cfeatur.LAKES.with_scale('10m'), zorder=2)  \n",
    "\n",
    "ax13.gridlines(draw_labels=True, linestyle='--', lw = 0.3)  \n",
    "cax = fig13.add_axes([ax13.get_position().x0, ax13.get_position().y0-0.05, ax13.get_position().width, 0.02])  \n",
    "clb = plt.colorbar(mapbar1, cax=cax, orientation = 'horizontal')\n",
    "clb.set_label('Herbivory')\n",
    "\n",
    "\n",
    "plt.savefig(r'C:\\\\Users\\\\*****\\\\photo\\\\global prediction.png', dpi=1200, bbox_inches = 'tight')\n"
   ]
  },
  {
   "attachments": {},
   "cell_type": "markdown",
   "metadata": {},
   "source": [
    "Comparison between the full model and the final model"
   ]
  },
  {
   "cell_type": "code",
   "execution_count": null,
   "metadata": {},
   "outputs": [],
   "source": [
    "# Mean of squared residuals\n",
    "def mssr(fit,true):\n",
    "    return ((fit-true)**2).mean()\n",
    "\n",
    "mse_score_full_herb = mssr(fit = forest_herb.predict(data_anals_herb[feature_name]), true = data_anals_herb['Herbivory'])\n",
    "mse_score_final_herb = mssr(fit = forest_pre_herb.predict(data_anals_herb[selec_fec_herb]), true = data_anals_herb['Herbivory'])\n",
    "\n",
    "mse_score_full_woody = mssr(fit = forest_woody.predict(data_anals_woody[feature_name]), true = data_anals_woody['Herbivory'])\n",
    "mse_score_final_woody = mssr(fit = forest_pre_woody.predict(data_anals_woody[selec_fec_woody]), true = data_anals_woody['Herbivory'])\n",
    "\n",
    "var_ex_full_herb = 1-mse_score_full_herb/mssr(fit = data_anals_herb['Herbivory'], true = (data_anals_herb['Herbivory']).mean())\n",
    "var_ex_final_herb = 1-mse_score_final_herb/mssr(fit = data_anals_herb['Herbivory'], true = (data_anals_herb['Herbivory']).mean())\n",
    "\n",
    "var_ex_full_woody = 1-mse_score_full_woody/mssr(fit = data_anals_woody['Herbivory'], true = (data_anals_woody['Herbivory']).mean())\n",
    "var_ex_final_woody = 1-mse_score_final_woody/mssr(fit = data_anals_woody['Herbivory'], true = (data_anals_woody['Herbivory']).mean())\n",
    "    \n",
    "print('MSE of full model for herb:', mse_score_full_herb, 'MSE of final model for herb:', mse_score_final_herb)\n",
    "print('MSE of full model for woody:', mse_score_full_woody, 'MSE of final model for woody:', mse_score_final_woody)\n",
    "\n",
    "print('R^2 of full model for herb:', var_ex_full_herb, 'R^2 of final model for herb:', var_ex_final_herb)\n",
    "print('R^2 of full model for woody:', var_ex_full_woody, 'R^2 of final model for woody:', var_ex_final_woody)\n"
   ]
  },
  {
   "attachments": {},
   "cell_type": "markdown",
   "metadata": {},
   "source": [
    "100 K-fold cross validations"
   ]
  },
  {
   "cell_type": "code",
   "execution_count": null,
   "metadata": {},
   "outputs": [],
   "source": [
    "from sklearn.model_selection import cross_val_score\n",
    "from sklearn.model_selection import KFold\n",
    "cross = []\n",
    "for i  in trange(0,100,1):\n",
    "    kf = KFold(n_splits=10, random_state=i+1,shuffle=True)\n",
    "    cross_score = -cross_val_score(forest_pre_herb, data_anals_herb[selec_fec_herb], data_anals_herb['Herbivory'], cv=kf, scoring='neg_mean_squared_error').mean()\n",
    "    cross.append(cross_score)\n",
    "    \n",
    "plt.plot(range(1,101,1),cross)\n",
    "plt.xlabel('n')\n",
    "plt.ylabel('MSE')\n",
    "plt.title('a', loc = 'left', fontsize=30)\n",
    "plt.title('10-fold cross validation for herb')\n",
    "plt.savefig(r'C:\\\\Users\\\\*****\\\\photo\\\\cross validations_herb.png', dpi=600, bbox_inches = 'tight')\n",
    "plt.show()\n",
    "\n",
    "\n"
   ]
  },
  {
   "cell_type": "code",
   "execution_count": null,
   "metadata": {},
   "outputs": [],
   "source": [
    "cross = []\n",
    "for i  in trange(0,100,1):\n",
    "    kf = KFold(n_splits=10, random_state=i+1,shuffle=True)\n",
    "    cross_score = -cross_val_score(forest_pre_woody, data_anals_woody[selec_fec_woody], data_anals_woody['Herbivory'], cv=kf, scoring='neg_mean_squared_error').mean()\n",
    "    cross.append(cross_score)\n",
    "    \n",
    "plt.plot(range(1,101,1),cross)\n",
    "plt.xlabel('n')\n",
    "plt.ylabel('MSE')\n",
    "plt.title('b', loc = 'left', fontsize=30)\n",
    "plt.title('10-fold cross validation for woody')\n",
    "plt.savefig(r'C:\\\\Users\\\\*****\\\\photo\\\\cross validations_woody.png', dpi=600, bbox_inches = 'tight')\n",
    "plt.show()"
   ]
  },
  {
   "attachments": {},
   "cell_type": "markdown",
   "metadata": {},
   "source": [
    "### Global prediction in the context of future climate change\n",
    "#### Sustainable development(ssp1.26)\n",
    "Read global climate prediction data under the ACCESS-CM2 model, resolution 5 arc minutes, data source： WorldClim (https://worldclim.org/data/cmip6/cmip6_clim5m.html)\n"
   ]
  },
  {
   "cell_type": "code",
   "execution_count": null,
   "metadata": {},
   "outputs": [],
   "source": [
    "from sklearn.impute import SimpleImputer \n",
    "\n",
    "clim_ssp126 = rixary.open_rasterio(r'C:\\\\Users\\\\*****\\\\wc2.1_5m_bio_ssp126_2021-2040\\\\wc2.1_5m_bioc_ACCESS-CM2_ssp126_2021-2040.tif')\n",
    "clim_ssp126['band'] = cli_colnames\n",
    "\n",
    "def list_nonest(lis):\n",
    "    new_list = []\n",
    "    for i in range(len(lis)):\n",
    "        new_list += lis[i]\n",
    "    return new_list\n",
    "\n",
    "# Replacing climate data with future data\n",
    "data_envri_ssp126 = data_envri.copy()\n",
    "for colname in cli_colnames:\n",
    "    dat = clim_ssp126.loc[colname].values\n",
    "    imp = SimpleImputer(missing_values=np.nan, strategy='constant', fill_value=-3.4e+38)\n",
    "    dat = imp.fit_transform(dat)\n",
    "    data_envri_ssp126[colname] = list_nonest(dat.tolist())\n"
   ]
  },
  {
   "attachments": {},
   "cell_type": "markdown",
   "metadata": {},
   "source": [
    "Prediction of herb"
   ]
  },
  {
   "cell_type": "code",
   "execution_count": null,
   "metadata": {},
   "outputs": [],
   "source": [
    "pl_fit_ssp1260_herb = forest_pre_herb.predict(data_envri_ssp126[selec_fec_herb])\n",
    "pl_fit_ssp126_herb = replac_to_na(glc_herb, np.array(list_nest(pl_fit_ssp1260_herb, m, n)))\n",
    "\n",
    "pre_plot(pre_value = pl_fit_ssp126_herb, colormap = newcmap, col_min = 0, col_max = 20, pre_title = 'Global herbivory prediction of herb under ssp1.26')\n"
   ]
  },
  {
   "attachments": {},
   "cell_type": "markdown",
   "metadata": {},
   "source": [
    "Herbivory change of herb "
   ]
  },
  {
   "cell_type": "code",
   "execution_count": null,
   "metadata": {},
   "outputs": [],
   "source": [
    "# Herbivory change\n",
    "pl_fit0_herb_rate = pl_fit_ssp1260_herb - pl_fit0_herb\n",
    "pl_herb_rate126 = replac_to_na(glc_herb, np.array(list_nest(pl_fit0_herb_rate, m, n)))\n",
    "\n",
    "pre_plot(pre_value = pl_herb_rate126, colormap = 'seismic', col_min = -10, col_max = 10, pre_title = 'Global herbivory change of herb under ssp1.26')"
   ]
  },
  {
   "attachments": {},
   "cell_type": "markdown",
   "metadata": {},
   "source": [
    "Prediction of woody"
   ]
  },
  {
   "cell_type": "code",
   "execution_count": null,
   "metadata": {},
   "outputs": [],
   "source": [
    "pl_fit_ssp1260_woody = forest_pre_woody.predict(data_envri_ssp126[selec_fec_woody])\n",
    "pl_fit_ssp126_woody = replac_to_na(glc_woody, np.array(list_nest(pl_fit_ssp1260_woody, m, n)))\n",
    "\n",
    "pre_plot(pre_value = pl_fit_ssp126_woody, colormap = newcmap, col_min = 0, col_max = 80, pre_title = 'Global herbivory prediction of woody under ssp1.26')"
   ]
  },
  {
   "attachments": {},
   "cell_type": "markdown",
   "metadata": {},
   "source": [
    "Herbivory change of woody"
   ]
  },
  {
   "cell_type": "code",
   "execution_count": null,
   "metadata": {},
   "outputs": [],
   "source": [
    "pl_fit0_woody_rate = pl_fit_ssp1260_woody - pl_fit0_woody\n",
    "pl_woody_rate126 = replac_to_na(glc_woody, np.array(list_nest(pl_fit0_woody_rate, m, n)))\n",
    "\n",
    "pre_plot(pre_value = pl_woody_rate126, colormap = 'seismic', col_min = -20, col_max = 20, pre_title = 'Global herbivory change of woody under ssp1.26')"
   ]
  },
  {
   "attachments": {},
   "cell_type": "markdown",
   "metadata": {},
   "source": [
    "#### Traditional fossil energy(ssp5.85)\n",
    "Read global climate prediction data under the ACCESS-CM2 model, resolution 5 arc minutes, data source： WorldClim (https://worldclim.org/data/cmip6/cmip6_clim5m.html)"
   ]
  },
  {
   "cell_type": "code",
   "execution_count": null,
   "metadata": {},
   "outputs": [],
   "source": [
    "\n",
    "clim_ssp585 = rixary.open_rasterio(r'C:\\\\Users\\\\******\\\\wc2.1_5m_bio_ssp585_2021-2040\\\\wc2.1_5m_bioc_ACCESS-CM2_ssp585_2021-2040.tif') \n",
    "clim_ssp585['band'] = cli_colnames\n",
    "\n",
    "def list_nonest(lis):\n",
    "    new_list = []\n",
    "    for i in range(len(lis)):\n",
    "        new_list += lis[i]\n",
    "    return new_list\n",
    "\n",
    "# Replacing climate data with future data\n",
    "data_envri_ssp585 = data_envri.copy()\n",
    "for colname in cli_colnames:\n",
    "    dat = clim_ssp585.loc[colname].values\n",
    "    imp = SimpleImputer(missing_values=np.nan, strategy='constant', fill_value=-3.4e+38)\n",
    "    dat = imp.fit_transform(dat)\n",
    "    data_envri_ssp585[colname] = list_nonest(dat.tolist())"
   ]
  },
  {
   "attachments": {},
   "cell_type": "markdown",
   "metadata": {},
   "source": [
    "Prediction of herb"
   ]
  },
  {
   "cell_type": "code",
   "execution_count": null,
   "metadata": {},
   "outputs": [],
   "source": [
    "pl_fit_ssp5850_herb = forest_pre_herb.predict(data_envri_ssp585[selec_fec_herb])\n",
    "pl_fit_ssp585_herb = replac_to_na(glc_herb, np.array(list_nest(pl_fit_ssp5850_herb, m, n)))\n",
    "\n",
    "pre_plot(pre_value = pl_fit_ssp585_herb, colormap = newcmap, col_min = 0, col_max = 20, pre_title = 'Global herbivory prediction of herb under ssp5.85')"
   ]
  },
  {
   "attachments": {},
   "cell_type": "markdown",
   "metadata": {},
   "source": [
    "Herbivory change of herb "
   ]
  },
  {
   "cell_type": "code",
   "execution_count": null,
   "metadata": {},
   "outputs": [],
   "source": [
    "pl_fit0_herb_rate = pl_fit_ssp5850_herb - pl_fit0_herb\n",
    "pl_herb_rate585 = replac_to_na(glc_herb, np.array(list_nest(pl_fit0_herb_rate, m, n)))\n",
    "\n",
    "pre_plot(pre_value = pl_herb_rate585, colormap = 'seismic', col_min = -10, col_max = 10, pre_title = 'Global herbivory change of herb under ssp5.85')"
   ]
  },
  {
   "attachments": {},
   "cell_type": "markdown",
   "metadata": {},
   "source": [
    "Prediction of woody"
   ]
  },
  {
   "cell_type": "code",
   "execution_count": null,
   "metadata": {},
   "outputs": [],
   "source": [
    "pl_fit_ssp5850_woody =forest_pre_woody.predict(data_envri_ssp585[selec_fec_woody])\n",
    "pl_fit_ssp585_woody = replac_to_na(glc_woody, np.array(list_nest(pl_fit_ssp5850_woody, m, n)))\n",
    "\n",
    "pre_plot(pre_value = pl_fit_ssp585_woody, colormap = newcmap, col_min = 0, col_max = 80, pre_title = 'Global herbivory prediction of woody under ssp5.85')"
   ]
  },
  {
   "attachments": {},
   "cell_type": "markdown",
   "metadata": {},
   "source": [
    "Herbivory change of woody"
   ]
  },
  {
   "cell_type": "code",
   "execution_count": null,
   "metadata": {},
   "outputs": [],
   "source": [
    "pl_fit0_woody_rate = pl_fit_ssp5850_woody - pl_fit0_woody\n",
    "pl_woody_rate585 = replac_to_na(glc_woody, np.array(list_nest(pl_fit0_woody_rate, m, n)))\n",
    "\n",
    "pre_plot(pre_value = pl_woody_rate585, colormap = 'seismic', col_min = -20, col_max = 20, pre_title = 'Global herbivory change of woody under ssp5.85')"
   ]
  },
  {
   "attachments": {},
   "cell_type": "markdown",
   "metadata": {},
   "source": [
    "#### Comparison between Sustainable Development and Fossil Fuel \n",
    "Herb"
   ]
  },
  {
   "cell_type": "code",
   "execution_count": null,
   "metadata": {},
   "outputs": [],
   "source": [
    "pl_fit0_herb_126_585 = pl_fit_ssp1260_herb - pl_fit_ssp5850_herb\n",
    "pl_herb_rate = replac_to_na(glc_herb, np.array(list_nest(pl_fit0_herb_126_585, m, n)))\n",
    "\n",
    "pre_plot(pre_value = pl_herb_rate, colormap = 'seismic', col_min = -10, col_max = 10, pre_title = 'Global herbivory change of herb between ssp1.26 and ssp5.85')"
   ]
  },
  {
   "attachments": {},
   "cell_type": "markdown",
   "metadata": {},
   "source": [
    "Woody"
   ]
  },
  {
   "cell_type": "code",
   "execution_count": null,
   "metadata": {},
   "outputs": [],
   "source": [
    "pl_fit0_woody_126_585 = pl_fit_ssp1260_woody - pl_fit_ssp5850_woody\n",
    "pl_woody_rate = replac_to_na(glc_woody, np.array(list_nest(pl_fit0_woody_126_585, m, n)))\n",
    "\n",
    "pre_plot(pre_value = pl_woody_rate, colormap = 'seismic', col_min = -10, col_max = 10, pre_title = 'Global herbivory change of woody between ssp1.26 and ssp5.85')"
   ]
  }
 ],
 "metadata": {
  "celltoolbar": "Edit Metadata",
  "kernelspec": {
   "display_name": "sklearn-geo",
   "language": "python",
   "name": "python3"
  },
  "language_info": {
   "codemirror_mode": {
    "name": "ipython",
    "version": 3
   },
   "file_extension": ".py",
   "mimetype": "text/x-python",
   "name": "python",
   "nbconvert_exporter": "python",
   "pygments_lexer": "ipython3",
   "version": "3.10.9"
  },
  "vscode": {
   "interpreter": {
    "hash": "031ac6e26fb7f3e6e8b214571c0a0eaada2a34d25f444384981e57a316f82376"
   }
  }
 },
 "nbformat": 4,
 "nbformat_minor": 2
}
